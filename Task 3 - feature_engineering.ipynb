{
 "cells": [
  {
   "cell_type": "markdown",
   "metadata": {},
   "source": [
    "# Feature Engineering\n",
    "\n",
    "---\n",
    "\n",
    "1. Import packages\n",
    "2. Load data\n",
    "3. Feature engineering\n",
    "\n",
    "---\n",
    "\n",
    "## 1. Import packages"
   ]
  },
  {
   "cell_type": "code",
   "execution_count": 21,
   "metadata": {
    "ExecuteTime": {
     "end_time": "2025-05-12T16:31:21.376537Z",
     "start_time": "2025-05-12T16:31:21.373979Z"
    }
   },
   "outputs": [],
   "source": [
    "import pandas as pd"
   ]
  },
  {
   "cell_type": "code",
   "execution_count": 22,
   "metadata": {},
   "outputs": [],
   "source": [
    "df = pd.read_csv('./clean_data_after_eda.csv')"
   ]
  },
  {
   "cell_type": "code",
   "execution_count": 23,
   "metadata": {},
   "outputs": [],
   "source": [
    "df_copy=df.copy()"
   ]
  },
  {
   "cell_type": "code",
   "execution_count": 24,
   "metadata": {},
   "outputs": [
    {
     "name": "stdout",
     "output_type": "stream",
     "text": [
      "<class 'pandas.core.frame.DataFrame'>\n",
      "RangeIndex: 14606 entries, 0 to 14605\n",
      "Data columns (total 44 columns):\n",
      " #   Column                          Non-Null Count  Dtype  \n",
      "---  ------                          --------------  -----  \n",
      " 0   id                              14606 non-null  object \n",
      " 1   channel_sales                   14606 non-null  object \n",
      " 2   cons_12m                        14606 non-null  int64  \n",
      " 3   cons_gas_12m                    14606 non-null  int64  \n",
      " 4   cons_last_month                 14606 non-null  int64  \n",
      " 5   date_activ                      14606 non-null  object \n",
      " 6   date_end                        14606 non-null  object \n",
      " 7   date_modif_prod                 14606 non-null  object \n",
      " 8   date_renewal                    14606 non-null  object \n",
      " 9   forecast_cons_12m               14606 non-null  float64\n",
      " 10  forecast_cons_year              14606 non-null  int64  \n",
      " 11  forecast_discount_energy        14606 non-null  float64\n",
      " 12  forecast_meter_rent_12m         14606 non-null  float64\n",
      " 13  forecast_price_energy_off_peak  14606 non-null  float64\n",
      " 14  forecast_price_energy_peak      14606 non-null  float64\n",
      " 15  forecast_price_pow_off_peak     14606 non-null  float64\n",
      " 16  has_gas                         14606 non-null  object \n",
      " 17  imp_cons                        14606 non-null  float64\n",
      " 18  margin_gross_pow_ele            14606 non-null  float64\n",
      " 19  margin_net_pow_ele              14606 non-null  float64\n",
      " 20  nb_prod_act                     14606 non-null  int64  \n",
      " 21  net_margin                      14606 non-null  float64\n",
      " 22  num_years_antig                 14606 non-null  int64  \n",
      " 23  origin_up                       14606 non-null  object \n",
      " 24  pow_max                         14606 non-null  float64\n",
      " 25  var_year_price_off_peak_var     14606 non-null  float64\n",
      " 26  var_year_price_peak_var         14606 non-null  float64\n",
      " 27  var_year_price_mid_peak_var     14606 non-null  float64\n",
      " 28  var_year_price_off_peak_fix     14606 non-null  float64\n",
      " 29  var_year_price_peak_fix         14606 non-null  float64\n",
      " 30  var_year_price_mid_peak_fix     14606 non-null  float64\n",
      " 31  var_year_price_off_peak         14606 non-null  float64\n",
      " 32  var_year_price_peak             14606 non-null  float64\n",
      " 33  var_year_price_mid_peak         14606 non-null  float64\n",
      " 34  var_6m_price_off_peak_var       14606 non-null  float64\n",
      " 35  var_6m_price_peak_var           14606 non-null  float64\n",
      " 36  var_6m_price_mid_peak_var       14606 non-null  float64\n",
      " 37  var_6m_price_off_peak_fix       14606 non-null  float64\n",
      " 38  var_6m_price_peak_fix           14606 non-null  float64\n",
      " 39  var_6m_price_mid_peak_fix       14606 non-null  float64\n",
      " 40  var_6m_price_off_peak           14606 non-null  float64\n",
      " 41  var_6m_price_peak               14606 non-null  float64\n",
      " 42  var_6m_price_mid_peak           14606 non-null  float64\n",
      " 43  churn                           14606 non-null  int64  \n",
      "dtypes: float64(29), int64(7), object(8)\n",
      "memory usage: 4.9+ MB\n"
     ]
    }
   ],
   "source": [
    "df_copy.info()"
   ]
  },
  {
   "cell_type": "markdown",
   "metadata": {},
   "source": [
    "---\n",
    "## 2. Load data"
   ]
  },
  {
   "cell_type": "code",
   "execution_count": 25,
   "metadata": {
    "ExecuteTime": {
     "end_time": "2025-05-12T16:31:21.473280Z",
     "start_time": "2025-05-12T16:31:21.385539Z"
    }
   },
   "outputs": [],
   "source": [
    "df_copy[\"date_activ\"] = pd.to_datetime(df_copy[\"date_activ\"], format='%Y-%m-%d')\n",
    "df_copy[\"date_end\"] = pd.to_datetime(df_copy[\"date_end\"], format='%Y-%m-%d')\n",
    "df_copy[\"date_modif_prod\"] = pd.to_datetime(df_copy[\"date_modif_prod\"], format='%Y-%m-%d')\n",
    "df_copy[\"date_renewal\"] = pd.to_datetime(df_copy[\"date_renewal\"], format='%Y-%m-%d')"
   ]
  },
  {
   "cell_type": "code",
   "execution_count": 26,
   "metadata": {
    "ExecuteTime": {
     "end_time": "2025-05-12T16:31:21.794435Z",
     "start_time": "2025-05-12T16:31:21.783133Z"
    }
   },
   "outputs": [
    {
     "data": {
      "text/html": [
       "<div>\n",
       "<style scoped>\n",
       "    .dataframe tbody tr th:only-of-type {\n",
       "        vertical-align: middle;\n",
       "    }\n",
       "\n",
       "    .dataframe tbody tr th {\n",
       "        vertical-align: top;\n",
       "    }\n",
       "\n",
       "    .dataframe thead th {\n",
       "        text-align: right;\n",
       "    }\n",
       "</style>\n",
       "<table border=\"1\" class=\"dataframe\">\n",
       "  <thead>\n",
       "    <tr style=\"text-align: right;\">\n",
       "      <th></th>\n",
       "      <th>id</th>\n",
       "      <th>channel_sales</th>\n",
       "      <th>cons_12m</th>\n",
       "      <th>cons_gas_12m</th>\n",
       "      <th>cons_last_month</th>\n",
       "      <th>date_activ</th>\n",
       "      <th>date_end</th>\n",
       "      <th>date_modif_prod</th>\n",
       "      <th>date_renewal</th>\n",
       "      <th>forecast_cons_12m</th>\n",
       "      <th>...</th>\n",
       "      <th>var_6m_price_off_peak_var</th>\n",
       "      <th>var_6m_price_peak_var</th>\n",
       "      <th>var_6m_price_mid_peak_var</th>\n",
       "      <th>var_6m_price_off_peak_fix</th>\n",
       "      <th>var_6m_price_peak_fix</th>\n",
       "      <th>var_6m_price_mid_peak_fix</th>\n",
       "      <th>var_6m_price_off_peak</th>\n",
       "      <th>var_6m_price_peak</th>\n",
       "      <th>var_6m_price_mid_peak</th>\n",
       "      <th>churn</th>\n",
       "    </tr>\n",
       "  </thead>\n",
       "  <tbody>\n",
       "    <tr>\n",
       "      <th>0</th>\n",
       "      <td>24011ae4ebbe3035111d65fa7c15bc57</td>\n",
       "      <td>foosdfpfkusacimwkcsosbicdxkicaua</td>\n",
       "      <td>0</td>\n",
       "      <td>54946</td>\n",
       "      <td>0</td>\n",
       "      <td>2013-06-15</td>\n",
       "      <td>2016-06-15</td>\n",
       "      <td>2015-11-01</td>\n",
       "      <td>2015-06-23</td>\n",
       "      <td>0.00</td>\n",
       "      <td>...</td>\n",
       "      <td>0.000131</td>\n",
       "      <td>4.100838e-05</td>\n",
       "      <td>0.000908</td>\n",
       "      <td>2.086294</td>\n",
       "      <td>99.530517</td>\n",
       "      <td>44.235794</td>\n",
       "      <td>2.086425</td>\n",
       "      <td>9.953056e+01</td>\n",
       "      <td>44.236702</td>\n",
       "      <td>1</td>\n",
       "    </tr>\n",
       "    <tr>\n",
       "      <th>1</th>\n",
       "      <td>d29c2c54acc38ff3c0614d0a653813dd</td>\n",
       "      <td>MISSING</td>\n",
       "      <td>4660</td>\n",
       "      <td>0</td>\n",
       "      <td>0</td>\n",
       "      <td>2009-08-21</td>\n",
       "      <td>2016-08-30</td>\n",
       "      <td>2009-08-21</td>\n",
       "      <td>2015-08-31</td>\n",
       "      <td>189.95</td>\n",
       "      <td>...</td>\n",
       "      <td>0.000003</td>\n",
       "      <td>1.217891e-03</td>\n",
       "      <td>0.000000</td>\n",
       "      <td>0.009482</td>\n",
       "      <td>0.000000</td>\n",
       "      <td>0.000000</td>\n",
       "      <td>0.009485</td>\n",
       "      <td>1.217891e-03</td>\n",
       "      <td>0.000000</td>\n",
       "      <td>0</td>\n",
       "    </tr>\n",
       "    <tr>\n",
       "      <th>2</th>\n",
       "      <td>764c75f661154dac3a6c254cd082ea7d</td>\n",
       "      <td>foosdfpfkusacimwkcsosbicdxkicaua</td>\n",
       "      <td>544</td>\n",
       "      <td>0</td>\n",
       "      <td>0</td>\n",
       "      <td>2010-04-16</td>\n",
       "      <td>2016-04-16</td>\n",
       "      <td>2010-04-16</td>\n",
       "      <td>2015-04-17</td>\n",
       "      <td>47.96</td>\n",
       "      <td>...</td>\n",
       "      <td>0.000004</td>\n",
       "      <td>9.450150e-08</td>\n",
       "      <td>0.000000</td>\n",
       "      <td>0.000000</td>\n",
       "      <td>0.000000</td>\n",
       "      <td>0.000000</td>\n",
       "      <td>0.000004</td>\n",
       "      <td>9.450150e-08</td>\n",
       "      <td>0.000000</td>\n",
       "      <td>0</td>\n",
       "    </tr>\n",
       "  </tbody>\n",
       "</table>\n",
       "<p>3 rows × 44 columns</p>\n",
       "</div>"
      ],
      "text/plain": [
       "                                 id                     channel_sales  \\\n",
       "0  24011ae4ebbe3035111d65fa7c15bc57  foosdfpfkusacimwkcsosbicdxkicaua   \n",
       "1  d29c2c54acc38ff3c0614d0a653813dd                           MISSING   \n",
       "2  764c75f661154dac3a6c254cd082ea7d  foosdfpfkusacimwkcsosbicdxkicaua   \n",
       "\n",
       "   cons_12m  cons_gas_12m  cons_last_month date_activ   date_end  \\\n",
       "0         0         54946                0 2013-06-15 2016-06-15   \n",
       "1      4660             0                0 2009-08-21 2016-08-30   \n",
       "2       544             0                0 2010-04-16 2016-04-16   \n",
       "\n",
       "  date_modif_prod date_renewal  forecast_cons_12m  ...  \\\n",
       "0      2015-11-01   2015-06-23               0.00  ...   \n",
       "1      2009-08-21   2015-08-31             189.95  ...   \n",
       "2      2010-04-16   2015-04-17              47.96  ...   \n",
       "\n",
       "   var_6m_price_off_peak_var  var_6m_price_peak_var  \\\n",
       "0                   0.000131           4.100838e-05   \n",
       "1                   0.000003           1.217891e-03   \n",
       "2                   0.000004           9.450150e-08   \n",
       "\n",
       "   var_6m_price_mid_peak_var  var_6m_price_off_peak_fix  \\\n",
       "0                   0.000908                   2.086294   \n",
       "1                   0.000000                   0.009482   \n",
       "2                   0.000000                   0.000000   \n",
       "\n",
       "   var_6m_price_peak_fix  var_6m_price_mid_peak_fix var_6m_price_off_peak  \\\n",
       "0              99.530517                  44.235794              2.086425   \n",
       "1               0.000000                   0.000000              0.009485   \n",
       "2               0.000000                   0.000000              0.000004   \n",
       "\n",
       "   var_6m_price_peak  var_6m_price_mid_peak  churn  \n",
       "0       9.953056e+01              44.236702      1  \n",
       "1       1.217891e-03               0.000000      0  \n",
       "2       9.450150e-08               0.000000      0  \n",
       "\n",
       "[3 rows x 44 columns]"
      ]
     },
     "execution_count": 26,
     "metadata": {},
     "output_type": "execute_result"
    }
   ],
   "source": [
    "df_copy.head(3)"
   ]
  },
  {
   "cell_type": "markdown",
   "metadata": {},
   "source": [
    "---\n",
    "\n",
    "## 3. Feature engineering\n",
    "\n",
    "### Difference between off-peak prices in December and preceding January\n",
    "\n",
    "Below is the code created by your colleague to calculate the feature described above. Use this code to re-create this feature and then think about ways to build on this feature to create features with a higher predictive power."
   ]
  },
  {
   "cell_type": "code",
   "execution_count": 27,
   "metadata": {
    "ExecuteTime": {
     "end_time": "2025-05-12T16:32:04.670758Z",
     "start_time": "2025-05-12T16:32:04.558764Z"
    }
   },
   "outputs": [],
   "source": [
    "# price_df = pd.read_csv('price_data.csv')\n",
    "# price_df[\"price_date\"] = pd.to_datetime(price_df[\"price_date\"], format='%Y-%m-%d')\n",
    "# price_df.head()"
   ]
  },
  {
   "cell_type": "code",
   "execution_count": 28,
   "metadata": {
    "ExecuteTime": {
     "end_time": "2025-05-12T17:25:58.057213Z",
     "start_time": "2025-05-12T17:25:57.974746Z"
    }
   },
   "outputs": [],
   "source": [
    "# # Group off-peak prices by companies and month\n",
    "# monthly_price_by_id = price_df.groupby(['id', 'price_date']).agg({'price_off_peak_var': 'mean', 'price_off_peak_fix': 'mean'}).reset_index()\n",
    "\n",
    "# # Get january and december prices\n",
    "# jan_prices = monthly_price_by_id.groupby('id').first().reset_index()\n",
    "# dec_prices = monthly_price_by_id.groupby('id').last().reset_index()\n",
    "\n",
    "# # Calculate the difference\n",
    "# diff = pd.merge(dec_prices.rename(columns={'price_off_peak_var': 'dec_1', 'price_off_peak_fix': 'dec_2'}), jan_prices.drop(columns='price_date'), on='id')\n",
    "# diff['offpeak_diff_dec_january_energy'] = diff['dec_1'] - diff['price_off_peak_var']\n",
    "# diff['offpeak_diff_dec_january_power'] = diff['dec_2'] - diff['price_off_peak_fix']\n",
    "# diff = diff[['id', 'offpeak_diff_dec_january_energy','offpeak_diff_dec_january_power']]\n",
    "# diff.head()"
   ]
  },
  {
   "cell_type": "markdown",
   "metadata": {},
   "source": [
    "### making new features from existing ones like tenure,forecasted price difference, ratio of net and gross margin and new consumption feature"
   ]
  },
  {
   "cell_type": "markdown",
   "metadata": {},
   "source": [
    "### Tenure"
   ]
  },
  {
   "cell_type": "code",
   "execution_count": 29,
   "metadata": {},
   "outputs": [],
   "source": [
    "df_copy['tenure'] = (df_copy['date_end'] - df_copy['date_activ']).dt.days //365.0"
   ]
  },
  {
   "cell_type": "markdown",
   "metadata": {},
   "source": [
    "without dt.days we get timedelta object as ,1096 days , like that so to convert it into int64 we need timedelta accessor i.e .dt.days or .dt.seconds or more "
   ]
  },
  {
   "cell_type": "code",
   "execution_count": 30,
   "metadata": {},
   "outputs": [
    {
     "data": {
      "text/plain": [
       "0    3.0\n",
       "1    7.0\n",
       "2    6.0\n",
       "3    6.0\n",
       "4    6.0\n",
       "Name: tenure, dtype: float64"
      ]
     },
     "execution_count": 30,
     "metadata": {},
     "output_type": "execute_result"
    }
   ],
   "source": [
    "df_copy['tenure'].head()"
   ]
  },
  {
   "cell_type": "markdown",
   "metadata": {},
   "source": [
    "### Forcasted price difference"
   ]
  },
  {
   "cell_type": "code",
   "execution_count": 31,
   "metadata": {},
   "outputs": [],
   "source": [
    "df_copy['forecast_price_diff'] = df_copy['forecast_price_energy_peak'] - df_copy['forecast_price_energy_off_peak']"
   ]
  },
  {
   "cell_type": "code",
   "execution_count": 32,
   "metadata": {},
   "outputs": [],
   "source": [
    "import numpy as np\n",
    "# np.where()"
   ]
  },
  {
   "cell_type": "markdown",
   "metadata": {},
   "source": [
    "### margin ratio"
   ]
  },
  {
   "cell_type": "code",
   "execution_count": 33,
   "metadata": {},
   "outputs": [],
   "source": [
    "df_copy['margin_ratio'] = np.where(df_copy['margin_gross_pow_ele'] != 0, df_copy['margin_net_pow_ele'] / df_copy['margin_gross_pow_ele'], 0)\n"
   ]
  },
  {
   "cell_type": "markdown",
   "metadata": {},
   "source": [
    "### Monthly consumption ration"
   ]
  },
  {
   "cell_type": "code",
   "execution_count": 34,
   "metadata": {},
   "outputs": [],
   "source": [
    "average_monthly_consumption = df_copy['cons_12m'] / 12.0\n",
    "df_copy['consumption_ratio'] = np.where(average_monthly_consumption != 0,df_copy['cons_last_month'] / average_monthly_consumption,0)\n"
   ]
  },
  {
   "cell_type": "markdown",
   "metadata": {},
   "source": [
    "### Margin pe kwh"
   ]
  },
  {
   "cell_type": "code",
   "execution_count": 35,
   "metadata": {},
   "outputs": [],
   "source": [
    "df_copy[\"margin_per_kwh\"] = np.where(df_copy[\"cons_12m\"] == 0, 0,df_copy[\"margin_net_pow_ele\"] / df_copy[\"cons_12m\"])\n"
   ]
  },
  {
   "cell_type": "code",
   "execution_count": 36,
   "metadata": {},
   "outputs": [],
   "source": [
    "df_copy[\"time_since_modif\"] = (df_copy[\"date_end\"] - df_copy[\"date_modif_prod\"]).dt.days\n",
    "df_copy[\"time_to_renewal\"] = (df_copy[\"date_end\"] - df_copy[\"date_renewal\"]).dt.days"
   ]
  },
  {
   "cell_type": "code",
   "execution_count": 37,
   "metadata": {},
   "outputs": [
    {
     "data": {
      "text/plain": [
       "array(['t', 'f'], dtype=object)"
      ]
     },
     "execution_count": 37,
     "metadata": {},
     "output_type": "execute_result"
    }
   ],
   "source": [
    "df_copy['has_gas'].unique()"
   ]
  },
  {
   "cell_type": "code",
   "execution_count": 38,
   "metadata": {},
   "outputs": [],
   "source": [
    "df_copy['has_gas']=df_copy['has_gas'].map({'t':1,'f':0}).astype(\"int64\")"
   ]
  },
  {
   "cell_type": "markdown",
   "metadata": {},
   "source": [
    "DROPPING COLUMNS WHICH WE HAVE USED TO CREATE NEW ONES"
   ]
  },
  {
   "cell_type": "code",
   "execution_count": 39,
   "metadata": {},
   "outputs": [],
   "source": [
    "columns_to_drop = [\n",
    "    'date_activ',\n",
    "    'date_end',\n",
    "    'forecast_price_energy_peak',\n",
    "    'forecast_price_energy_off_peak',\n",
    "    'margin_gross_pow_ele',\n",
    "    'margin_net_pow_ele',\n",
    "    'cons_12m',\n",
    "    'cons_last_month',\n",
    "    'date_modif_prod',\n",
    "    'date_renewal',\n",
    "    'origin_up',\n",
    "    'id',\n",
    "    'channel_sales'\n",
    "    \n",
    "]\n",
    "df_copy.drop(columns=columns_to_drop,inplace=True)\n"
   ]
  },
  {
   "cell_type": "code",
   "execution_count": 40,
   "metadata": {},
   "outputs": [
    {
     "name": "stdout",
     "output_type": "stream",
     "text": [
      "<class 'pandas.core.frame.DataFrame'>\n",
      "RangeIndex: 14606 entries, 0 to 14605\n",
      "Data columns (total 38 columns):\n",
      " #   Column                       Non-Null Count  Dtype  \n",
      "---  ------                       --------------  -----  \n",
      " 0   cons_gas_12m                 14606 non-null  int64  \n",
      " 1   forecast_cons_12m            14606 non-null  float64\n",
      " 2   forecast_cons_year           14606 non-null  int64  \n",
      " 3   forecast_discount_energy     14606 non-null  float64\n",
      " 4   forecast_meter_rent_12m      14606 non-null  float64\n",
      " 5   forecast_price_pow_off_peak  14606 non-null  float64\n",
      " 6   has_gas                      14606 non-null  int64  \n",
      " 7   imp_cons                     14606 non-null  float64\n",
      " 8   nb_prod_act                  14606 non-null  int64  \n",
      " 9   net_margin                   14606 non-null  float64\n",
      " 10  num_years_antig              14606 non-null  int64  \n",
      " 11  pow_max                      14606 non-null  float64\n",
      " 12  var_year_price_off_peak_var  14606 non-null  float64\n",
      " 13  var_year_price_peak_var      14606 non-null  float64\n",
      " 14  var_year_price_mid_peak_var  14606 non-null  float64\n",
      " 15  var_year_price_off_peak_fix  14606 non-null  float64\n",
      " 16  var_year_price_peak_fix      14606 non-null  float64\n",
      " 17  var_year_price_mid_peak_fix  14606 non-null  float64\n",
      " 18  var_year_price_off_peak      14606 non-null  float64\n",
      " 19  var_year_price_peak          14606 non-null  float64\n",
      " 20  var_year_price_mid_peak      14606 non-null  float64\n",
      " 21  var_6m_price_off_peak_var    14606 non-null  float64\n",
      " 22  var_6m_price_peak_var        14606 non-null  float64\n",
      " 23  var_6m_price_mid_peak_var    14606 non-null  float64\n",
      " 24  var_6m_price_off_peak_fix    14606 non-null  float64\n",
      " 25  var_6m_price_peak_fix        14606 non-null  float64\n",
      " 26  var_6m_price_mid_peak_fix    14606 non-null  float64\n",
      " 27  var_6m_price_off_peak        14606 non-null  float64\n",
      " 28  var_6m_price_peak            14606 non-null  float64\n",
      " 29  var_6m_price_mid_peak        14606 non-null  float64\n",
      " 30  churn                        14606 non-null  int64  \n",
      " 31  tenure                       14606 non-null  float64\n",
      " 32  forecast_price_diff          14606 non-null  float64\n",
      " 33  margin_ratio                 14606 non-null  float64\n",
      " 34  consumption_ratio            14606 non-null  float64\n",
      " 35  margin_per_kwh               14606 non-null  float64\n",
      " 36  time_since_modif             14606 non-null  int64  \n",
      " 37  time_to_renewal              14606 non-null  int64  \n",
      "dtypes: float64(30), int64(8)\n",
      "memory usage: 4.2 MB\n"
     ]
    }
   ],
   "source": [
    "df_copy.info()"
   ]
  },
  {
   "cell_type": "code",
   "execution_count": null,
   "metadata": {},
   "outputs": [],
   "source": []
  }
 ],
 "metadata": {
  "interpreter": {
   "hash": "152bf6e7dc8ee53edb5af21dc1a8faeab7f134840808a94079ed98d91ece7e0c"
  },
  "kernelspec": {
   "display_name": "Python 3",
   "language": "python",
   "name": "python3"
  },
  "language_info": {
   "codemirror_mode": {
    "name": "ipython",
    "version": 3
   },
   "file_extension": ".py",
   "mimetype": "text/x-python",
   "name": "python",
   "nbconvert_exporter": "python",
   "pygments_lexer": "ipython3",
   "version": "3.12.6"
  }
 },
 "nbformat": 4,
 "nbformat_minor": 4
}
